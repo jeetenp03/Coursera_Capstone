{
 "cells": [
  {
   "cell_type": "markdown",
   "metadata": {},
   "source": [
    "## Peer-graded Assignment: Build a Regression Model in Keras"
   ]
  },
  {
   "cell_type": "markdown",
   "metadata": {},
   "source": [
    "### By: Jeeten Patel"
   ]
  },
  {
   "cell_type": "markdown",
   "metadata": {},
   "source": [
    "#### Import Keras and Packages"
   ]
  },
  {
   "cell_type": "code",
   "execution_count": 3,
   "metadata": {},
   "outputs": [],
   "source": [
    "import keras\n",
    "\n",
    "from keras.models import Sequential\n",
    "from keras.layers import Dense\n",
    "from keras.utils import to_categorical\n",
    "\n",
    "from sklearn.metrics import mean_squared_error\n",
    "from math import sqrt\n",
    "from sklearn.model_selection import train_test_split\n",
    "from sklearn import metrics\n",
    "\n",
    "import matplotlib.pyplot as plt\n",
    "from keras.datasets import mnist\n",
    "\n",
    "import pandas as pd\n",
    "import numpy as np"
   ]
  },
  {
   "cell_type": "code",
   "execution_count": 4,
   "metadata": {},
   "outputs": [
    {
     "data": {
      "text/html": [
       "<div>\n",
       "<style scoped>\n",
       "    .dataframe tbody tr th:only-of-type {\n",
       "        vertical-align: middle;\n",
       "    }\n",
       "\n",
       "    .dataframe tbody tr th {\n",
       "        vertical-align: top;\n",
       "    }\n",
       "\n",
       "    .dataframe thead th {\n",
       "        text-align: right;\n",
       "    }\n",
       "</style>\n",
       "<table border=\"1\" class=\"dataframe\">\n",
       "  <thead>\n",
       "    <tr style=\"text-align: right;\">\n",
       "      <th></th>\n",
       "      <th>Cement</th>\n",
       "      <th>Blast Furnace Slag</th>\n",
       "      <th>Fly Ash</th>\n",
       "      <th>Water</th>\n",
       "      <th>Superplasticizer</th>\n",
       "      <th>Coarse Aggregate</th>\n",
       "      <th>Fine Aggregate</th>\n",
       "      <th>Age</th>\n",
       "      <th>Strength</th>\n",
       "    </tr>\n",
       "  </thead>\n",
       "  <tbody>\n",
       "    <tr>\n",
       "      <td>0</td>\n",
       "      <td>540.0</td>\n",
       "      <td>0.0</td>\n",
       "      <td>0.0</td>\n",
       "      <td>162.0</td>\n",
       "      <td>2.5</td>\n",
       "      <td>1040.0</td>\n",
       "      <td>676.0</td>\n",
       "      <td>28</td>\n",
       "      <td>79.99</td>\n",
       "    </tr>\n",
       "    <tr>\n",
       "      <td>1</td>\n",
       "      <td>540.0</td>\n",
       "      <td>0.0</td>\n",
       "      <td>0.0</td>\n",
       "      <td>162.0</td>\n",
       "      <td>2.5</td>\n",
       "      <td>1055.0</td>\n",
       "      <td>676.0</td>\n",
       "      <td>28</td>\n",
       "      <td>61.89</td>\n",
       "    </tr>\n",
       "    <tr>\n",
       "      <td>2</td>\n",
       "      <td>332.5</td>\n",
       "      <td>142.5</td>\n",
       "      <td>0.0</td>\n",
       "      <td>228.0</td>\n",
       "      <td>0.0</td>\n",
       "      <td>932.0</td>\n",
       "      <td>594.0</td>\n",
       "      <td>270</td>\n",
       "      <td>40.27</td>\n",
       "    </tr>\n",
       "    <tr>\n",
       "      <td>3</td>\n",
       "      <td>332.5</td>\n",
       "      <td>142.5</td>\n",
       "      <td>0.0</td>\n",
       "      <td>228.0</td>\n",
       "      <td>0.0</td>\n",
       "      <td>932.0</td>\n",
       "      <td>594.0</td>\n",
       "      <td>365</td>\n",
       "      <td>41.05</td>\n",
       "    </tr>\n",
       "    <tr>\n",
       "      <td>4</td>\n",
       "      <td>198.6</td>\n",
       "      <td>132.4</td>\n",
       "      <td>0.0</td>\n",
       "      <td>192.0</td>\n",
       "      <td>0.0</td>\n",
       "      <td>978.4</td>\n",
       "      <td>825.5</td>\n",
       "      <td>360</td>\n",
       "      <td>44.30</td>\n",
       "    </tr>\n",
       "  </tbody>\n",
       "</table>\n",
       "</div>"
      ],
      "text/plain": [
       "   Cement  Blast Furnace Slag  Fly Ash  Water  Superplasticizer  \\\n",
       "0   540.0                 0.0      0.0  162.0               2.5   \n",
       "1   540.0                 0.0      0.0  162.0               2.5   \n",
       "2   332.5               142.5      0.0  228.0               0.0   \n",
       "3   332.5               142.5      0.0  228.0               0.0   \n",
       "4   198.6               132.4      0.0  192.0               0.0   \n",
       "\n",
       "   Coarse Aggregate  Fine Aggregate  Age  Strength  \n",
       "0            1040.0           676.0   28     79.99  \n",
       "1            1055.0           676.0   28     61.89  \n",
       "2             932.0           594.0  270     40.27  \n",
       "3             932.0           594.0  365     41.05  \n",
       "4             978.4           825.5  360     44.30  "
      ]
     },
     "execution_count": 4,
     "metadata": {},
     "output_type": "execute_result"
    }
   ],
   "source": [
    "# read the data\n",
    "concrete_data = pd.read_csv('https://s3-api.us-geo.objectstorage.softlayer.net/cf-courses-data/CognitiveClass/DL0101EN/labs/data/concrete_data.csv')\n",
    "concrete_data.head()"
   ]
  },
  {
   "cell_type": "code",
   "execution_count": 5,
   "metadata": {},
   "outputs": [
    {
     "data": {
      "text/plain": [
       "(1030, 9)"
      ]
     },
     "execution_count": 5,
     "metadata": {},
     "output_type": "execute_result"
    }
   ],
   "source": [
    "#Checking of size of rows & columns\n",
    "concrete_data.shape"
   ]
  },
  {
   "cell_type": "code",
   "execution_count": 6,
   "metadata": {},
   "outputs": [
    {
     "data": {
      "text/plain": [
       "Cement                0\n",
       "Blast Furnace Slag    0\n",
       "Fly Ash               0\n",
       "Water                 0\n",
       "Superplasticizer      0\n",
       "Coarse Aggregate      0\n",
       "Fine Aggregate        0\n",
       "Age                   0\n",
       "Strength              0\n",
       "dtype: int64"
      ]
     },
     "execution_count": 6,
     "metadata": {},
     "output_type": "execute_result"
    }
   ],
   "source": [
    "#Checking of missing values\n",
    "concrete_data.isnull().sum()"
   ]
  },
  {
   "cell_type": "markdown",
   "metadata": {},
   "source": [
    "#### Data is cleaned"
   ]
  },
  {
   "cell_type": "code",
   "execution_count": 7,
   "metadata": {},
   "outputs": [],
   "source": [
    "concrete_data_columns = concrete_data.columns\n",
    "\n",
    "# all columns except Strength\n",
    "predictors = concrete_data[concrete_data_columns[concrete_data_columns != 'Strength']] \n",
    "target = concrete_data['Strength']"
   ]
  },
  {
   "cell_type": "code",
   "execution_count": 8,
   "metadata": {},
   "outputs": [
    {
     "data": {
      "text/html": [
       "<div>\n",
       "<style scoped>\n",
       "    .dataframe tbody tr th:only-of-type {\n",
       "        vertical-align: middle;\n",
       "    }\n",
       "\n",
       "    .dataframe tbody tr th {\n",
       "        vertical-align: top;\n",
       "    }\n",
       "\n",
       "    .dataframe thead th {\n",
       "        text-align: right;\n",
       "    }\n",
       "</style>\n",
       "<table border=\"1\" class=\"dataframe\">\n",
       "  <thead>\n",
       "    <tr style=\"text-align: right;\">\n",
       "      <th></th>\n",
       "      <th>Cement</th>\n",
       "      <th>Blast Furnace Slag</th>\n",
       "      <th>Fly Ash</th>\n",
       "      <th>Water</th>\n",
       "      <th>Superplasticizer</th>\n",
       "      <th>Coarse Aggregate</th>\n",
       "      <th>Fine Aggregate</th>\n",
       "      <th>Age</th>\n",
       "    </tr>\n",
       "  </thead>\n",
       "  <tbody>\n",
       "    <tr>\n",
       "      <td>0</td>\n",
       "      <td>540.0</td>\n",
       "      <td>0.0</td>\n",
       "      <td>0.0</td>\n",
       "      <td>162.0</td>\n",
       "      <td>2.5</td>\n",
       "      <td>1040.0</td>\n",
       "      <td>676.0</td>\n",
       "      <td>28</td>\n",
       "    </tr>\n",
       "    <tr>\n",
       "      <td>1</td>\n",
       "      <td>540.0</td>\n",
       "      <td>0.0</td>\n",
       "      <td>0.0</td>\n",
       "      <td>162.0</td>\n",
       "      <td>2.5</td>\n",
       "      <td>1055.0</td>\n",
       "      <td>676.0</td>\n",
       "      <td>28</td>\n",
       "    </tr>\n",
       "    <tr>\n",
       "      <td>2</td>\n",
       "      <td>332.5</td>\n",
       "      <td>142.5</td>\n",
       "      <td>0.0</td>\n",
       "      <td>228.0</td>\n",
       "      <td>0.0</td>\n",
       "      <td>932.0</td>\n",
       "      <td>594.0</td>\n",
       "      <td>270</td>\n",
       "    </tr>\n",
       "    <tr>\n",
       "      <td>3</td>\n",
       "      <td>332.5</td>\n",
       "      <td>142.5</td>\n",
       "      <td>0.0</td>\n",
       "      <td>228.0</td>\n",
       "      <td>0.0</td>\n",
       "      <td>932.0</td>\n",
       "      <td>594.0</td>\n",
       "      <td>365</td>\n",
       "    </tr>\n",
       "    <tr>\n",
       "      <td>4</td>\n",
       "      <td>198.6</td>\n",
       "      <td>132.4</td>\n",
       "      <td>0.0</td>\n",
       "      <td>192.0</td>\n",
       "      <td>0.0</td>\n",
       "      <td>978.4</td>\n",
       "      <td>825.5</td>\n",
       "      <td>360</td>\n",
       "    </tr>\n",
       "  </tbody>\n",
       "</table>\n",
       "</div>"
      ],
      "text/plain": [
       "   Cement  Blast Furnace Slag  Fly Ash  Water  Superplasticizer  \\\n",
       "0   540.0                 0.0      0.0  162.0               2.5   \n",
       "1   540.0                 0.0      0.0  162.0               2.5   \n",
       "2   332.5               142.5      0.0  228.0               0.0   \n",
       "3   332.5               142.5      0.0  228.0               0.0   \n",
       "4   198.6               132.4      0.0  192.0               0.0   \n",
       "\n",
       "   Coarse Aggregate  Fine Aggregate  Age  \n",
       "0            1040.0           676.0   28  \n",
       "1            1055.0           676.0   28  \n",
       "2             932.0           594.0  270  \n",
       "3             932.0           594.0  365  \n",
       "4             978.4           825.5  360  "
      ]
     },
     "execution_count": 8,
     "metadata": {},
     "output_type": "execute_result"
    }
   ],
   "source": [
    "predictors.head()"
   ]
  },
  {
   "cell_type": "code",
   "execution_count": 9,
   "metadata": {},
   "outputs": [
    {
     "data": {
      "text/plain": [
       "0    79.99\n",
       "1    61.89\n",
       "2    40.27\n",
       "3    41.05\n",
       "4    44.30\n",
       "Name: Strength, dtype: float64"
      ]
     },
     "execution_count": 9,
     "metadata": {},
     "output_type": "execute_result"
    }
   ],
   "source": [
    "target.head()"
   ]
  },
  {
   "cell_type": "code",
   "execution_count": 10,
   "metadata": {},
   "outputs": [
    {
     "name": "stdout",
     "output_type": "stream",
     "text": [
      "(721, 8)\n",
      "(309, 8)\n"
     ]
    }
   ],
   "source": [
    "X_train, X_test, y_train, y_test = train_test_split(predictors, target, test_size=0.30, random_state=42)\n",
    "print(X_train.shape); print(X_test.shape)"
   ]
  },
  {
   "cell_type": "code",
   "execution_count": 11,
   "metadata": {},
   "outputs": [
    {
     "data": {
      "text/plain": [
       "8"
      ]
     },
     "execution_count": 11,
     "metadata": {},
     "output_type": "execute_result"
    }
   ],
   "source": [
    "n_cols = predictors.shape[1]\n",
    "n_cols"
   ]
  },
  {
   "cell_type": "markdown",
   "metadata": {},
   "source": [
    "### Building a Neural Network"
   ]
  },
  {
   "cell_type": "code",
   "execution_count": 12,
   "metadata": {},
   "outputs": [],
   "source": [
    "# define regression model\n",
    "def regression_model():\n",
    "    # create model\n",
    "    model = Sequential()\n",
    "    model.add(Dense(10, activation='relu', input_shape=(n_cols,)))\n",
    "    model.add(Dense(1))\n",
    "    \n",
    "    # compile model\n",
    "    model.compile(optimizer='adam', loss='mean_squared_error')\n",
    "    return model"
   ]
  },
  {
   "cell_type": "code",
   "execution_count": 13,
   "metadata": {},
   "outputs": [
    {
     "name": "stdout",
     "output_type": "stream",
     "text": [
      "The mean squared error between the predicted concrete strength and the actual concrete strength:  414890.907338953\n"
     ]
    }
   ],
   "source": [
    "model = regression_model()\n",
    "\n",
    "pred= model.predict(X_test)\n",
    "model.fit(X_train, y_train, validation_split=0.3, epochs=50, verbose=0)\n",
    "pred_train= model.predict(X_train)\n",
    "\n",
    "print('The mean squared error between the predicted concrete strength and the actual concrete strength: ',metrics.mean_squared_error(y_test,pred))"
   ]
  },
  {
   "cell_type": "markdown",
   "metadata": {},
   "source": [
    "# PART-A"
   ]
  },
  {
   "cell_type": "markdown",
   "metadata": {},
   "source": [
    "#### Use the Keras library to build a neural network with the following:\n",
    "\n",
    "One hidden layer of 10 nodes, and a ReLU activation function\n",
    "\n",
    "Use the adam optimizer and the mean squared error as the loss function.\n",
    "\n",
    "    1. Randomly split the data into a training and test sets by holding 30% of the data for testing. You can use the train_test_split helper function from Scikit-learn.\n",
    "\n",
    "    2. Train the model on the training data using 50 epochs.\n",
    "\n",
    "    3. Evaluate the model on the test data and compute the mean squared error between the predicted concrete strength and the actual concrete strength. You can use the mean_squared_error function from Scikit-learn.\n",
    "\n",
    "    4. Repeat steps 1 - 3, 50 times, i.e., create a list of 50 mean squared errors.\n",
    "\n",
    "    5. Report the mean and the standard deviation of the mean squared errors."
   ]
  },
  {
   "cell_type": "markdown",
   "metadata": {},
   "source": [
    "#### Loop for 50 times"
   ]
  },
  {
   "cell_type": "code",
   "execution_count": 14,
   "metadata": {},
   "outputs": [
    {
     "name": "stdout",
     "output_type": "stream",
     "text": [
      "Test set Mean Squared Error for 1 cycle:172.24081738568992\n",
      "Test set Mean Squared Error for 2 cycle:328.1008997294509\n",
      "Test set Mean Squared Error for 3 cycle:698.8998096649999\n",
      "Test set Mean Squared Error for 4 cycle:216.24255634068007\n",
      "Test set Mean Squared Error for 5 cycle:168.19379266802636\n",
      "Test set Mean Squared Error for 6 cycle:2669.396931815507\n",
      "Test set Mean Squared Error for 7 cycle:194.82927165450621\n",
      "Test set Mean Squared Error for 8 cycle:132.67156104429165\n",
      "Test set Mean Squared Error for 9 cycle:120.6043704694637\n",
      "Test set Mean Squared Error for 10 cycle:536.4855960931578\n",
      "Test set Mean Squared Error for 11 cycle:215.25886846020867\n",
      "Test set Mean Squared Error for 12 cycle:87.52271356444034\n",
      "Test set Mean Squared Error for 13 cycle:1183.4301202464517\n",
      "Test set Mean Squared Error for 14 cycle:467.18195018719916\n",
      "Test set Mean Squared Error for 15 cycle:254.82245601189845\n",
      "Test set Mean Squared Error for 16 cycle:902.5757068837061\n",
      "Test set Mean Squared Error for 17 cycle:257.24977913816633\n",
      "Test set Mean Squared Error for 18 cycle:137.3937899689729\n",
      "Test set Mean Squared Error for 19 cycle:188.6356049323471\n",
      "Test set Mean Squared Error for 20 cycle:150.49285738576066\n",
      "Test set Mean Squared Error for 21 cycle:695.3469273008853\n",
      "Test set Mean Squared Error for 22 cycle:551.0034062672765\n",
      "Test set Mean Squared Error for 23 cycle:148.9521541357635\n",
      "Test set Mean Squared Error for 24 cycle:1285.64812907798\n",
      "Test set Mean Squared Error for 25 cycle:326.21063352502114\n",
      "Test set Mean Squared Error for 26 cycle:212.4007525334204\n",
      "Test set Mean Squared Error for 27 cycle:150.16808330154035\n",
      "Test set Mean Squared Error for 28 cycle:2136.7248065474473\n",
      "Test set Mean Squared Error for 29 cycle:124.40979259692276\n",
      "Test set Mean Squared Error for 30 cycle:2357.4247437678596\n",
      "Test set Mean Squared Error for 31 cycle:535.9944412377981\n",
      "Test set Mean Squared Error for 32 cycle:2670.9659250708046\n",
      "Test set Mean Squared Error for 33 cycle:343.36839154336815\n",
      "Test set Mean Squared Error for 34 cycle:264.3210044509922\n",
      "Test set Mean Squared Error for 35 cycle:123.88535508745389\n",
      "Test set Mean Squared Error for 36 cycle:371.0574773023127\n",
      "Test set Mean Squared Error for 37 cycle:117.29920264924641\n",
      "Test set Mean Squared Error for 38 cycle:146.3232321963507\n",
      "Test set Mean Squared Error for 39 cycle:140.02237830757252\n",
      "Test set Mean Squared Error for 40 cycle:277.4085845487668\n",
      "Test set Mean Squared Error for 41 cycle:323.1270542038435\n",
      "Test set Mean Squared Error for 42 cycle:372.438582267707\n",
      "Test set Mean Squared Error for 43 cycle:229.20374182225692\n",
      "Test set Mean Squared Error for 44 cycle:779.4538685301602\n",
      "Test set Mean Squared Error for 45 cycle:195.44081990223995\n",
      "Test set Mean Squared Error for 46 cycle:368.85786724206787\n",
      "Test set Mean Squared Error for 47 cycle:649.9127821083084\n",
      "Test set Mean Squared Error for 48 cycle:166.5717106361287\n",
      "Test set Mean Squared Error for 49 cycle:105.25399703119152\n",
      "Test set Mean Squared Error for 50 cycle:222.15997748772577\n"
     ]
    }
   ],
   "source": [
    "MSE_A=[]\n",
    "\n",
    "for i in range(50):\n",
    "    X_train, X_test, y_train, y_test = train_test_split(predictors, target, test_size=0.30)\n",
    "    model = regression_model()\n",
    "    \n",
    "    model.fit(X_train, y_train, validation_split=0.3, epochs=50, verbose=0)\n",
    "\n",
    "    pred= model.predict(X_test)\n",
    "    MSE_A.append(metrics.mean_squared_error(y_test,pred))\n",
    "    \n",
    "    print(\"Test set Mean Squared Error for {} cycle:{}\".format(i+1,metrics.mean_squared_error(pred,y_test)))"
   ]
  },
  {
   "cell_type": "code",
   "execution_count": 15,
   "metadata": {},
   "outputs": [
    {
     "name": "stdout",
     "output_type": "stream",
     "text": [
      "The PART-A Mean squared error between the predicted concrete strength and the actual concrete strength:  509.4717055265067\n",
      "The PART-A Standard Deviation between the predicted concrete strength and the actual concrete strength:  634.9594962128693\n"
     ]
    }
   ],
   "source": [
    "print('The PART-A Mean squared error between the predicted concrete strength and the actual concrete strength: ',np.mean(MSE_A))\n",
    "print('The PART-A Standard Deviation between the predicted concrete strength and the actual concrete strength: ',np.std(MSE_A))"
   ]
  },
  {
   "cell_type": "markdown",
   "metadata": {},
   "source": [
    "# PART-B"
   ]
  },
  {
   "cell_type": "markdown",
   "metadata": {},
   "source": [
    "Normalize the data\n",
    "\n",
    "- Repeat Part A but use a normalized version of the data. Recall that one way to normalize the data is by subtracting the mean from the individual predictors and dividing by the standard deviation.\n",
    "- How does the mean of the mean squared errors compare to that from Step A?"
   ]
  },
  {
   "cell_type": "markdown",
   "metadata": {},
   "source": [
    "#### Normalizing the data"
   ]
  },
  {
   "cell_type": "code",
   "execution_count": 16,
   "metadata": {},
   "outputs": [],
   "source": [
    "predictors_norm = (predictors - predictors.mean()) / predictors.std()\n",
    "predictors_norm.head()\n",
    "n_cols = predictors_norm.shape[1]"
   ]
  },
  {
   "cell_type": "code",
   "execution_count": 17,
   "metadata": {},
   "outputs": [
    {
     "name": "stdout",
     "output_type": "stream",
     "text": [
      "Test set Mean Squared Error for 1 cycle:639.5176344630518\n",
      "Test set Mean Squared Error for 2 cycle:495.5765084844628\n",
      "Test set Mean Squared Error for 3 cycle:560.1270550085595\n",
      "Test set Mean Squared Error for 4 cycle:664.204995307951\n",
      "Test set Mean Squared Error for 5 cycle:718.8234548890288\n",
      "Test set Mean Squared Error for 6 cycle:638.7773107231479\n",
      "Test set Mean Squared Error for 7 cycle:782.9993164635968\n",
      "Test set Mean Squared Error for 8 cycle:875.2151881425467\n",
      "Test set Mean Squared Error for 9 cycle:596.8411470507028\n",
      "Test set Mean Squared Error for 10 cycle:714.9797944590615\n",
      "Test set Mean Squared Error for 11 cycle:560.383692023079\n",
      "Test set Mean Squared Error for 12 cycle:712.4074455839227\n",
      "Test set Mean Squared Error for 13 cycle:608.3506380077887\n",
      "Test set Mean Squared Error for 14 cycle:622.3010988252621\n",
      "Test set Mean Squared Error for 15 cycle:934.8314307898083\n",
      "Test set Mean Squared Error for 16 cycle:564.9894599505873\n",
      "Test set Mean Squared Error for 17 cycle:1088.253525560197\n",
      "Test set Mean Squared Error for 18 cycle:572.4174058014269\n",
      "Test set Mean Squared Error for 19 cycle:747.6024486768415\n",
      "Test set Mean Squared Error for 20 cycle:744.3015639473093\n",
      "Test set Mean Squared Error for 21 cycle:719.748407558549\n",
      "Test set Mean Squared Error for 22 cycle:566.7572585758229\n",
      "Test set Mean Squared Error for 23 cycle:678.1119305135894\n",
      "Test set Mean Squared Error for 24 cycle:835.5763927164869\n",
      "Test set Mean Squared Error for 25 cycle:483.717206026252\n",
      "Test set Mean Squared Error for 26 cycle:438.72402034947913\n",
      "Test set Mean Squared Error for 27 cycle:578.7314039173854\n",
      "Test set Mean Squared Error for 28 cycle:533.9097626719737\n",
      "Test set Mean Squared Error for 29 cycle:520.3689104304362\n",
      "Test set Mean Squared Error for 30 cycle:573.6112891702178\n",
      "Test set Mean Squared Error for 31 cycle:595.6926116436736\n",
      "Test set Mean Squared Error for 32 cycle:814.9630056134528\n",
      "Test set Mean Squared Error for 33 cycle:503.51834917891114\n",
      "Test set Mean Squared Error for 34 cycle:550.6292004298388\n",
      "Test set Mean Squared Error for 35 cycle:509.6674683547966\n",
      "Test set Mean Squared Error for 36 cycle:634.9301729524585\n",
      "Test set Mean Squared Error for 37 cycle:1101.0548196568539\n",
      "Test set Mean Squared Error for 38 cycle:623.126456656157\n",
      "Test set Mean Squared Error for 39 cycle:556.989149867084\n",
      "Test set Mean Squared Error for 40 cycle:548.3292890126814\n",
      "Test set Mean Squared Error for 41 cycle:723.3310265130106\n",
      "Test set Mean Squared Error for 42 cycle:618.2692502029917\n",
      "Test set Mean Squared Error for 43 cycle:560.1718497369536\n",
      "Test set Mean Squared Error for 44 cycle:805.4308802650816\n",
      "Test set Mean Squared Error for 45 cycle:721.768767328663\n",
      "Test set Mean Squared Error for 46 cycle:1071.5329684463077\n",
      "Test set Mean Squared Error for 47 cycle:591.1050498822711\n",
      "Test set Mean Squared Error for 48 cycle:807.9754438516532\n",
      "Test set Mean Squared Error for 49 cycle:504.42610945041037\n",
      "Test set Mean Squared Error for 50 cycle:553.5820870284834\n"
     ]
    }
   ],
   "source": [
    "MSE_B=[]\n",
    "\n",
    "for i in range(50):\n",
    "    X_train, X_test, y_train, y_test = train_test_split(predictors_norm, target, test_size=0.30)\n",
    "    model = regression_model()\n",
    "    \n",
    "    model.fit(X_train, y_train, validation_split=0.3, epochs=50, verbose=0)\n",
    "\n",
    "    pred= model.predict(X_test)\n",
    "    MSE_B.append(metrics.mean_squared_error(y_test,pred))\n",
    "    \n",
    "    print(\"Test set Mean Squared Error for {} cycle:{}\".format(i+1,metrics.mean_squared_error(pred,y_test)))"
   ]
  },
  {
   "cell_type": "code",
   "execution_count": 18,
   "metadata": {},
   "outputs": [
    {
     "name": "stdout",
     "output_type": "stream",
     "text": [
      "The PART-B Mean squared error between the predicted concrete strength and the actual concrete strength:  663.3730330432052\n",
      "The PART-B Standard Deviation between the predicted concrete strength and the actual concrete strength:  152.86263719235288\n"
     ]
    }
   ],
   "source": [
    "print('The PART-B Mean squared error between the predicted concrete strength and the actual concrete strength: ',np.mean(MSE_B))\n",
    "print('The PART-B Standard Deviation between the predicted concrete strength and the actual concrete strength: ',np.std(MSE_B))"
   ]
  },
  {
   "cell_type": "code",
   "execution_count": 19,
   "metadata": {},
   "outputs": [
    {
     "name": "stdout",
     "output_type": "stream",
     "text": [
      "The difference between the mean squared errors of Part B from Part A:  153.90132751669847\n"
     ]
    }
   ],
   "source": [
    "print('The difference between the mean squared errors of Part B from Part A: ',(np.mean(MSE_B)-np.mean(MSE_A)))"
   ]
  },
  {
   "cell_type": "code",
   "execution_count": 35,
   "metadata": {},
   "outputs": [
    {
     "name": "stdout",
     "output_type": "stream",
     "text": [
      "Standard deviation significantly got reduced, difference: 482.0968590205165\n"
     ]
    }
   ],
   "source": [
    "print('Standard deviation significantly got reduced, difference:',abs(np.std(MSE_B)-np.std(MSE_A)))"
   ]
  },
  {
   "cell_type": "markdown",
   "metadata": {},
   "source": [
    "# PART-C"
   ]
  },
  {
   "cell_type": "markdown",
   "metadata": {},
   "source": [
    "- Increate the number of epochs\n",
    "\n",
    "- Repeat Part B but use 100 epochs this time for training.\n",
    "\n",
    "- How does the mean of the mean squared errors compare to that from Step B?"
   ]
  },
  {
   "cell_type": "code",
   "execution_count": 21,
   "metadata": {},
   "outputs": [
    {
     "name": "stdout",
     "output_type": "stream",
     "text": [
      "Test set Mean Squared Error for 1 cycle:224.11587419662243\n",
      "Test set Mean Squared Error for 2 cycle:240.1904144080587\n",
      "Test set Mean Squared Error for 3 cycle:213.47725018533606\n",
      "Test set Mean Squared Error for 4 cycle:261.50080049813477\n",
      "Test set Mean Squared Error for 5 cycle:222.62283157789457\n",
      "Test set Mean Squared Error for 6 cycle:211.12255105362345\n",
      "Test set Mean Squared Error for 7 cycle:226.46994429596595\n",
      "Test set Mean Squared Error for 8 cycle:184.7759203682003\n",
      "Test set Mean Squared Error for 9 cycle:207.73126162433158\n",
      "Test set Mean Squared Error for 10 cycle:172.40024281397197\n",
      "Test set Mean Squared Error for 11 cycle:309.4243882972222\n",
      "Test set Mean Squared Error for 12 cycle:223.52808965205114\n",
      "Test set Mean Squared Error for 13 cycle:247.06959936978302\n",
      "Test set Mean Squared Error for 14 cycle:201.66009611790707\n",
      "Test set Mean Squared Error for 15 cycle:216.34425657511912\n",
      "Test set Mean Squared Error for 16 cycle:210.1819763257348\n",
      "Test set Mean Squared Error for 17 cycle:204.79810026585463\n",
      "Test set Mean Squared Error for 18 cycle:256.879536196892\n",
      "Test set Mean Squared Error for 19 cycle:293.9819878504221\n",
      "Test set Mean Squared Error for 20 cycle:214.3063023469861\n",
      "Test set Mean Squared Error for 21 cycle:342.6453062292413\n",
      "Test set Mean Squared Error for 22 cycle:238.3206685086535\n",
      "Test set Mean Squared Error for 23 cycle:207.26975551114563\n",
      "Test set Mean Squared Error for 24 cycle:247.363719090573\n",
      "Test set Mean Squared Error for 25 cycle:206.30443364451992\n",
      "Test set Mean Squared Error for 26 cycle:212.60648968573224\n",
      "Test set Mean Squared Error for 27 cycle:238.51491488685886\n",
      "Test set Mean Squared Error for 28 cycle:226.8054725334935\n",
      "Test set Mean Squared Error for 29 cycle:243.89901784057088\n",
      "Test set Mean Squared Error for 30 cycle:199.55665764166565\n",
      "Test set Mean Squared Error for 31 cycle:197.3455998032795\n",
      "Test set Mean Squared Error for 32 cycle:256.6630587365782\n",
      "Test set Mean Squared Error for 33 cycle:228.45495440699247\n",
      "Test set Mean Squared Error for 34 cycle:191.52630761358182\n",
      "Test set Mean Squared Error for 35 cycle:283.0657162237029\n",
      "Test set Mean Squared Error for 36 cycle:192.21033102207312\n",
      "Test set Mean Squared Error for 37 cycle:201.6941798458556\n",
      "Test set Mean Squared Error for 38 cycle:179.95936254730458\n",
      "Test set Mean Squared Error for 39 cycle:206.73611857546817\n",
      "Test set Mean Squared Error for 40 cycle:197.4489041746044\n",
      "Test set Mean Squared Error for 41 cycle:181.46368943171427\n",
      "Test set Mean Squared Error for 42 cycle:176.45360449743683\n",
      "Test set Mean Squared Error for 43 cycle:216.84011569653973\n",
      "Test set Mean Squared Error for 44 cycle:187.5370692389174\n",
      "Test set Mean Squared Error for 45 cycle:179.18235381670303\n",
      "Test set Mean Squared Error for 46 cycle:215.01357202754707\n",
      "Test set Mean Squared Error for 47 cycle:261.5203974397256\n",
      "Test set Mean Squared Error for 48 cycle:174.2102498379531\n",
      "Test set Mean Squared Error for 49 cycle:251.7934510574898\n",
      "Test set Mean Squared Error for 50 cycle:208.01911370200716\n"
     ]
    }
   ],
   "source": [
    "MSE_C=[]\n",
    "\n",
    "for i in range(50):\n",
    "    X_train, X_test, y_train, y_test = train_test_split(predictors_norm, target, test_size=0.30)\n",
    "    model = regression_model()\n",
    "    \n",
    "    model.fit(X_train, y_train, validation_split=0.3, epochs=100, verbose=0)\n",
    "\n",
    "    pred= model.predict(X_test)\n",
    "    MSE_C.append(metrics.mean_squared_error(y_test,pred))\n",
    "    \n",
    "    print(\"Test set Mean Squared Error for {} cycle:{}\".format(i+1,metrics.mean_squared_error(y_test,pred)))"
   ]
  },
  {
   "cell_type": "code",
   "execution_count": 22,
   "metadata": {},
   "outputs": [
    {
     "name": "stdout",
     "output_type": "stream",
     "text": [
      "The PART-C Mean squared error between the predicted concrete strength and the actual concrete strength:  221.86012018576082\n",
      "The PART-C Standard Deviation between the predicted concrete strength and the actual concrete strength:  34.990834979253016\n"
     ]
    }
   ],
   "source": [
    "print('The PART-C Mean squared error between the predicted concrete strength and the actual concrete strength: ',np.mean(MSE_C))\n",
    "print('The PART-C Standard Deviation between the predicted concrete strength and the actual concrete strength: ',np.std(MSE_C))"
   ]
  },
  {
   "cell_type": "code",
   "execution_count": 36,
   "metadata": {},
   "outputs": [
    {
     "name": "stdout",
     "output_type": "stream",
     "text": [
      "The difference between the mean squared errors of Part C from Part B:  441.51291285744435\n"
     ]
    }
   ],
   "source": [
    "print('The difference between the mean squared errors of Part C from Part B: ',abs(np.mean(MSE_C)-np.mean(MSE_B)))"
   ]
  },
  {
   "cell_type": "markdown",
   "metadata": {},
   "source": [
    "# Part D"
   ]
  },
  {
   "cell_type": "markdown",
   "metadata": {},
   "source": [
    "Increase the number of hidden layers\n",
    "\n",
    "- Repeat part B but use a neural network with the following instead:\n",
    "\n",
    "- Three hidden layers, each of 10 nodes and ReLU activation function.\n",
    "\n",
    "- How does the mean of the mean squared errors compare to that from Step B?"
   ]
  },
  {
   "cell_type": "code",
   "execution_count": 24,
   "metadata": {},
   "outputs": [],
   "source": [
    "# define regression model\n",
    "def regression_model():\n",
    "    # create model\n",
    "    model = Sequential()\n",
    "    model.add(Dense(10, activation='relu', input_shape=(n_cols,)))\n",
    "    model.add(Dense(10, activation='relu', input_shape=(n_cols,)))\n",
    "    model.add(Dense(10, activation='relu', input_shape=(n_cols,)))\n",
    "    model.add(Dense(1))\n",
    "    \n",
    "    # compile model\n",
    "    model.compile(optimizer='adam', loss='mean_squared_error')\n",
    "    return model"
   ]
  },
  {
   "cell_type": "code",
   "execution_count": 28,
   "metadata": {},
   "outputs": [
    {
     "name": "stdout",
     "output_type": "stream",
     "text": [
      "Test set Mean Squared Error for 1 cycle:166.67113412818594\n",
      "Test set Mean Squared Error for 2 cycle:146.18750671885843\n",
      "Test set Mean Squared Error for 3 cycle:167.2172758458419\n",
      "Test set Mean Squared Error for 4 cycle:158.26252326237775\n",
      "Test set Mean Squared Error for 5 cycle:126.56852585669355\n",
      "Test set Mean Squared Error for 6 cycle:169.94875823255273\n",
      "Test set Mean Squared Error for 7 cycle:157.29636272833483\n",
      "Test set Mean Squared Error for 8 cycle:122.68382739457478\n",
      "Test set Mean Squared Error for 9 cycle:163.02488300537482\n",
      "Test set Mean Squared Error for 10 cycle:175.7404830118708\n",
      "Test set Mean Squared Error for 11 cycle:165.7521488474283\n",
      "Test set Mean Squared Error for 12 cycle:143.75100740169245\n",
      "Test set Mean Squared Error for 13 cycle:186.765232456102\n",
      "Test set Mean Squared Error for 14 cycle:144.0834513041335\n",
      "Test set Mean Squared Error for 15 cycle:164.02844639852285\n",
      "Test set Mean Squared Error for 16 cycle:140.4695591941863\n",
      "Test set Mean Squared Error for 17 cycle:145.32181004147407\n",
      "Test set Mean Squared Error for 18 cycle:173.54064116454833\n",
      "Test set Mean Squared Error for 19 cycle:137.57198018834862\n",
      "Test set Mean Squared Error for 20 cycle:145.42436637312133\n",
      "Test set Mean Squared Error for 21 cycle:144.57291271574346\n",
      "Test set Mean Squared Error for 22 cycle:152.49837311464506\n",
      "Test set Mean Squared Error for 23 cycle:132.43594691193925\n",
      "Test set Mean Squared Error for 24 cycle:136.7747090495794\n",
      "Test set Mean Squared Error for 25 cycle:139.73569174818866\n",
      "Test set Mean Squared Error for 26 cycle:171.77161888113386\n",
      "Test set Mean Squared Error for 27 cycle:148.9047585271895\n",
      "Test set Mean Squared Error for 28 cycle:134.19398855694735\n",
      "Test set Mean Squared Error for 29 cycle:168.55469934546923\n",
      "Test set Mean Squared Error for 30 cycle:149.52645178164641\n",
      "Test set Mean Squared Error for 31 cycle:129.94829218207545\n",
      "Test set Mean Squared Error for 32 cycle:135.62746882719946\n",
      "Test set Mean Squared Error for 33 cycle:173.0201393124904\n",
      "Test set Mean Squared Error for 34 cycle:142.69666490750026\n",
      "Test set Mean Squared Error for 35 cycle:177.8785475325583\n",
      "Test set Mean Squared Error for 36 cycle:150.83599017501\n",
      "Test set Mean Squared Error for 37 cycle:144.13710106525664\n",
      "Test set Mean Squared Error for 38 cycle:157.39846260925532\n",
      "Test set Mean Squared Error for 39 cycle:170.03561419389428\n",
      "Test set Mean Squared Error for 40 cycle:122.40688228316361\n",
      "Test set Mean Squared Error for 41 cycle:124.15656984925332\n",
      "Test set Mean Squared Error for 42 cycle:143.54944014641913\n",
      "Test set Mean Squared Error for 43 cycle:138.14283158983244\n",
      "Test set Mean Squared Error for 44 cycle:137.89833866052555\n",
      "Test set Mean Squared Error for 45 cycle:131.42574967812118\n",
      "Test set Mean Squared Error for 46 cycle:135.8866242633014\n",
      "Test set Mean Squared Error for 47 cycle:150.3557944530366\n",
      "Test set Mean Squared Error for 48 cycle:134.8588455595445\n",
      "Test set Mean Squared Error for 49 cycle:145.29538413235957\n",
      "Test set Mean Squared Error for 50 cycle:133.64315873307896\n"
     ]
    }
   ],
   "source": [
    "MSE_D=[]\n",
    "\n",
    "for i in range(50):\n",
    "    X_train, X_test, y_train, y_test = train_test_split(predictors_norm,target, test_size=0.30)\n",
    "    model = regression_model()\n",
    "    \n",
    "    model.fit(X_train, y_train, validation_split=0.3, epochs=50, verbose=0)\n",
    "\n",
    "    pred= model.predict(X_test)\n",
    "    MSE_D.append(metrics.mean_squared_error(y_test,pred))\n",
    "    \n",
    "    print(\"Test set Mean Squared Error for {} cycle:{}\".format(i+1,metrics.mean_squared_error(y_test,pred)))"
   ]
  },
  {
   "cell_type": "code",
   "execution_count": 38,
   "metadata": {},
   "outputs": [
    {
     "name": "stdout",
     "output_type": "stream",
     "text": [
      "The PART-C Mean squared error between the predicted concrete strength and the actual concrete strength:  149.16953948681163\n",
      "The PART-C Standard Deviation between the predicted concrete strength and the actual concrete strength:  16.055992369747763\n"
     ]
    }
   ],
   "source": [
    "print('The PART-C Mean squared error between the predicted concrete strength and the actual concrete strength: ',np.mean(MSE_D))\n",
    "print('The PART-C Standard Deviation between the predicted concrete strength and the actual concrete strength: ',np.std(MSE_D))"
   ]
  },
  {
   "cell_type": "code",
   "execution_count": 40,
   "metadata": {},
   "outputs": [
    {
     "name": "stdout",
     "output_type": "stream",
     "text": [
      "The difference between the mean squared errors of Part D from Part B:  514.2034935563936\n"
     ]
    }
   ],
   "source": [
    "print('The difference between the mean squared errors of Part D from Part B: ',abs(np.mean(MSE_D)-np.mean(MSE_B)))"
   ]
  },
  {
   "cell_type": "code",
   "execution_count": 65,
   "metadata": {},
   "outputs": [],
   "source": [
    "df=pd.DataFrame(columns=['Mean Squared Error','Standard Deviation'],index=['PART A','PART B','PART C','PART D',],data=[[np.mean(MSE_A),np.std(MSE_A)],[np.mean(MSE_B),np.std(MSE_B)],[np.mean(MSE_C),np.std(MSE_C)],[np.mean(MSE_D),np.std(MSE_D)]])"
   ]
  },
  {
   "cell_type": "code",
   "execution_count": 66,
   "metadata": {},
   "outputs": [
    {
     "data": {
      "text/html": [
       "<div>\n",
       "<style scoped>\n",
       "    .dataframe tbody tr th:only-of-type {\n",
       "        vertical-align: middle;\n",
       "    }\n",
       "\n",
       "    .dataframe tbody tr th {\n",
       "        vertical-align: top;\n",
       "    }\n",
       "\n",
       "    .dataframe thead th {\n",
       "        text-align: right;\n",
       "    }\n",
       "</style>\n",
       "<table border=\"1\" class=\"dataframe\">\n",
       "  <thead>\n",
       "    <tr style=\"text-align: right;\">\n",
       "      <th></th>\n",
       "      <th>Mean Squared Error</th>\n",
       "      <th>Standard Deviation</th>\n",
       "    </tr>\n",
       "  </thead>\n",
       "  <tbody>\n",
       "    <tr>\n",
       "      <td>PART A</td>\n",
       "      <td>509.472</td>\n",
       "      <td>634.959</td>\n",
       "    </tr>\n",
       "    <tr>\n",
       "      <td>PART B</td>\n",
       "      <td>663.373</td>\n",
       "      <td>152.863</td>\n",
       "    </tr>\n",
       "    <tr>\n",
       "      <td>PART C</td>\n",
       "      <td>221.860</td>\n",
       "      <td>34.991</td>\n",
       "    </tr>\n",
       "    <tr>\n",
       "      <td>PART D</td>\n",
       "      <td>149.170</td>\n",
       "      <td>16.056</td>\n",
       "    </tr>\n",
       "  </tbody>\n",
       "</table>\n",
       "</div>"
      ],
      "text/plain": [
       "        Mean Squared Error  Standard Deviation\n",
       "PART A             509.472             634.959\n",
       "PART B             663.373             152.863\n",
       "PART C             221.860              34.991\n",
       "PART D             149.170              16.056"
      ]
     },
     "execution_count": 66,
     "metadata": {},
     "output_type": "execute_result"
    }
   ],
   "source": [
    "df.round(3)"
   ]
  },
  {
   "cell_type": "code",
   "execution_count": null,
   "metadata": {},
   "outputs": [],
   "source": []
  }
 ],
 "metadata": {
  "kernelspec": {
   "display_name": "Python 3",
   "language": "python",
   "name": "python3"
  },
  "language_info": {
   "codemirror_mode": {
    "name": "ipython",
    "version": 3
   },
   "file_extension": ".py",
   "mimetype": "text/x-python",
   "name": "python",
   "nbconvert_exporter": "python",
   "pygments_lexer": "ipython3",
   "version": "3.7.4"
  }
 },
 "nbformat": 4,
 "nbformat_minor": 4
}
